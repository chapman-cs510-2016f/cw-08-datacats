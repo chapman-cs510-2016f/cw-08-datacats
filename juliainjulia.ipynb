{
 "cells": [
  {
   "cell_type": "code",
   "execution_count": 1,
   "metadata": {
    "collapsed": false
   },
   "outputs": [
    {
     "data": {
      "text/markdown": [
       "juliamap(c,z; maxiter) :   Implement the iteration algorithm for a Julia Set.\n",
       "\n",
       "**Returns:** integer number of iterations, or zero if the iteration never diverges.\n",
       "\n",
       "  * c : complex constant definining the set\n",
       "  * z : complex number being iterated\n",
       "  * maxiter : maximum iteration number, defaults to 100\n"
      ],
      "text/plain": [
       "juliamap(c,z; maxiter) :   Implement the iteration algorithm for a Julia Set.\n",
       "\n",
       "**Returns:** integer number of iterations, or zero if the iteration never diverges.\n",
       "\n",
       "  * c : complex constant definining the set\n",
       "  * z : complex number being iterated\n",
       "  * maxiter : maximum iteration number, defaults to 100\n"
      ]
     },
     "execution_count": 1,
     "metadata": {},
     "output_type": "execute_result"
    }
   ],
   "source": [
    "\"\"\"\n",
    "juliamap(c,z; maxiter) :\n",
    "  Implement the iteration algorithm for a Julia Set.\n",
    "\n",
    "**Returns:** integer number of iterations, or zero\n",
    "if the iteration never diverges.\n",
    "\n",
    " - c : complex constant definining the set\n",
    " - z : complex number being iterated\n",
    " - maxiter : maximum iteration number, defaults to 100\n",
    "\"\"\"\n",
    "function juliamap(c, z; maxiter=100)\n",
    "    for n = 1:maxiter\n",
    "        z = z^2 + c\n",
    "        if abs(z) > 2\n",
    "            return n\n",
    "        end\n",
    "    end\n",
    "    return 0\n",
    "end\n",
    "\n",
    "@doc juliamap"
   ]
  },
  {
   "cell_type": "code",
   "execution_count": 2,
   "metadata": {
    "collapsed": false
   },
   "outputs": [
    {
     "data": {
      "text/html": [
       "4 methods for generic function <b>j0</b>:<ul><li> j0<i>{T<:Complex{T<:Real}}</i>(::<b>AbstractArray{T<:Complex{T<:Real},1}</b>) at <a href=\"file:///usr/bin/../share/julia/base/operators.jl\" target=\"_blank\">operators.jl:380</a><li> j0<i>{T<:Complex{T<:Real}}</i>(::<b>AbstractArray{T<:Complex{T<:Real},2}</b>) at <a href=\"file:///usr/bin/../share/julia/base/operators.jl\" target=\"_blank\">operators.jl:381</a><li> j0<i>{T<:Complex{T<:Real}}</i>(::<b>AbstractArray{T<:Complex{T<:Real},N}</b>) at <a href=\"file:///usr/bin/../share/julia/base/operators.jl\" target=\"_blank\">operators.jl:383</a><li> j0(z) at In[2]:2</ul>"
      ],
      "text/plain": [
       "# 4 methods for generic function \"j0\":\n",
       "j0{T<:Complex{T<:Real}}(::AbstractArray{T<:Complex{T<:Real},1}) at operators.jl:380\n",
       "j0{T<:Complex{T<:Real}}(::AbstractArray{T<:Complex{T<:Real},2}) at operators.jl:381\n",
       "j0{T<:Complex{T<:Real}}(::AbstractArray{T<:Complex{T<:Real},N}) at operators.jl:383\n",
       "j0(z) at In[2]:2"
      ]
     },
     "execution_count": 2,
     "metadata": {},
     "output_type": "execute_result"
    }
   ],
   "source": [
    "# Specialize juliamap to c=0\n",
    "j0(z) = juliamap(0,z)\n",
    "\n",
    "# Vectorize j0 over arrays of Complex numbers\n",
    "@vectorize_1arg Complex j0\n",
    "\n",
    "# List the available methods for j0 for different types\n",
    "methods(j0)"
   ]
  },
  {
   "cell_type": "markdown",
   "metadata": {},
   "source": [
    "The first part of the code just creates a complex plane.\n",
    "Afterwards, we call j0(z) to equal to the function returned by juliamap(0,z) when c = 0. \n",
    "The code then vectorizes j0 over the Complex numbers with the macro @vectorize_1arg\n",
    "\n",
    "Calling methods(j0) to see its methods, we see that j0(z) is defined in the inline In[2],\n",
    "and that the j0(z) takes in a subset of the Complex numbers, which is a subset of the Real numbers, and creates a 1 dimensional array, specifically an abstract array, which is also a subset of the complex numbers, subset of real numbers.\n",
    "The method also applies for a 2 dimensional array, and an N dimensional array for general terms. \n",
    "j0 now includes a method that handles these types because we vectorize it over the arrays of Complex numbers earlier, which contains any type T, subtype of Complex, which are composed of parts of any type T, subtype of R. \n",
    "So in doing so, it gets applied, or inherited, to j0. \n",
    "\n",
    "All variables in front of the semicolon are positional arguments, while the variables after the semicolon are keyword arguments."
   ]
  },
  {
   "cell_type": "code",
   "execution_count": 3,
   "metadata": {
    "collapsed": false
   },
   "outputs": [
    {
     "data": {
      "text/plain": [
       "complex_plane (generic function with 5 methods)"
      ]
     },
     "execution_count": 3,
     "metadata": {},
     "output_type": "execute_result"
    }
   ],
   "source": [
    "# Create a complex plane\n",
    "function complex_plane(xmin=-2, xmax=2, ymin=-2, ymax=2; xpoints=2000, ypoints=2000)\n",
    "    # y is a column vector\n",
    "    y = linspace(ymin, ymax, ypoints)\n",
    "\n",
    "    # x uses a transpose, yielding a row vector\n",
    "    x = linspace(xmin, xmax, xpoints)'\n",
    "\n",
    "    # z uses broadcasted addition and multiplication to create a plane\n",
    "    z = x .+ y.*im;\n",
    "\n",
    "    # The final line of a block is treated as the return value, in the absence\n",
    "    # of an explicit return statement\n",
    "end"
   ]
  },
  {
   "cell_type": "code",
   "execution_count": 4,
   "metadata": {
    "collapsed": false
   },
   "outputs": [
    {
     "name": "stdout",
     "output_type": "stream",
     "text": [
      "  0.641611 seconds (544.48 k allocations: 84.948 MB, 1.03% gc time)\n",
      "  0.778139 seconds (37.81 k allocations: 32.261 MB, 1.87% gc time)\n"
     ]
    },
    {
     "data": {
      "text/plain": [
       "2000x2000 Array{Int64,2}:\n",
       " 1  1  1  1  1  1  1  1  1  1  1  1  1  …  1  1  1  1  1  1  1  1  1  1  1  1\n",
       " 1  1  1  1  1  1  1  1  1  1  1  1  1     1  1  1  1  1  1  1  1  1  1  1  1\n",
       " 1  1  1  1  1  1  1  1  1  1  1  1  1     1  1  1  1  1  1  1  1  1  1  1  1\n",
       " 1  1  1  1  1  1  1  1  1  1  1  1  1     1  1  1  1  1  1  1  1  1  1  1  1\n",
       " 1  1  1  1  1  1  1  1  1  1  1  1  1     1  1  1  1  1  1  1  1  1  1  1  1\n",
       " 1  1  1  1  1  1  1  1  1  1  1  1  1  …  1  1  1  1  1  1  1  1  1  1  1  1\n",
       " 1  1  1  1  1  1  1  1  1  1  1  1  1     1  1  1  1  1  1  1  1  1  1  1  1\n",
       " 1  1  1  1  1  1  1  1  1  1  1  1  1     1  1  1  1  1  1  1  1  1  1  1  1\n",
       " 1  1  1  1  1  1  1  1  1  1  1  1  1     1  1  1  1  1  1  1  1  1  1  1  1\n",
       " 1  1  1  1  1  1  1  1  1  1  1  1  1     1  1  1  1  1  1  1  1  1  1  1  1\n",
       " 1  1  1  1  1  1  1  1  1  1  1  1  1  …  1  1  1  1  1  1  1  1  1  1  1  1\n",
       " 1  1  1  1  1  1  1  1  1  1  1  1  1     1  1  1  1  1  1  1  1  1  1  1  1\n",
       " 1  1  1  1  1  1  1  1  1  1  1  1  1     1  1  1  1  1  1  1  1  1  1  1  1\n",
       " ⋮              ⋮              ⋮        ⋱        ⋮              ⋮            \n",
       " 1  1  1  1  1  1  1  1  1  1  1  1  1     1  1  1  1  1  1  1  1  1  1  1  1\n",
       " 1  1  1  1  1  1  1  1  1  1  1  1  1     1  1  1  1  1  1  1  1  1  1  1  1\n",
       " 1  1  1  1  1  1  1  1  1  1  1  1  1  …  1  1  1  1  1  1  1  1  1  1  1  1\n",
       " 1  1  1  1  1  1  1  1  1  1  1  1  1     1  1  1  1  1  1  1  1  1  1  1  1\n",
       " 1  1  1  1  1  1  1  1  1  1  1  1  1     1  1  1  1  1  1  1  1  1  1  1  1\n",
       " 1  1  1  1  1  1  1  1  1  1  1  1  1     1  1  1  1  1  1  1  1  1  1  1  1\n",
       " 1  1  1  1  1  1  1  1  1  1  1  1  1     1  1  1  1  1  1  1  1  1  1  1  1\n",
       " 1  1  1  1  1  1  1  1  1  1  1  1  1  …  1  1  1  1  1  1  1  1  1  1  1  1\n",
       " 1  1  1  1  1  1  1  1  1  1  1  1  1     1  1  1  1  1  1  1  1  1  1  1  1\n",
       " 1  1  1  1  1  1  1  1  1  1  1  1  1     1  1  1  1  1  1  1  1  1  1  1  1\n",
       " 1  1  1  1  1  1  1  1  1  1  1  1  1     1  1  1  1  1  1  1  1  1  1  1  1\n",
       " 1  1  1  1  1  1  1  1  1  1  1  1  1     1  1  1  1  1  1  1  1  1  1  1  1"
      ]
     },
     "execution_count": 4,
     "metadata": {},
     "output_type": "execute_result"
    }
   ],
   "source": [
    "# The vectorized function can be applied directly to the plane\n",
    "@time cp = complex_plane()\n",
    "@time j0p = j0(cp)"
   ]
  },
  {
   "cell_type": "markdown",
   "metadata": {},
   "source": [
    "The function first defines the creation of a complex plane, with defaulted values, creating a 2000 x 2000 grid, titled cp.\n",
    "Then the code applies the j0(z) function to the complex plane cp and what results is Out[4]\n",
    "Which only took less than a second to run. Very fast."
   ]
  },
  {
   "cell_type": "code",
   "execution_count": 5,
   "metadata": {
    "collapsed": true
   },
   "outputs": [],
   "source": [
    "immutable ComplexPlane\n",
    "    x :: LinSpace{Float64}\n",
    "    y :: LinSpace{Float64}\n",
    "    z :: Array{Complex{Float64},2}\n",
    "    \n",
    "    function ComplexPlane(xmin=-2, xmax=2, ymin=-2, ymax=2;\n",
    "                            xpoints=2000, ypoints=2000)\n",
    "        x = linspace(xmin, xmax, xpoints)\n",
    "        y = linspace(ymin, ymax, ypoints)\n",
    "        z = x' .+ y.*im\n",
    "        new(x,y,z)\n",
    "    end\n",
    "end"
   ]
  },
  {
   "cell_type": "code",
   "execution_count": 7,
   "metadata": {
    "collapsed": false
   },
   "outputs": [
    {
     "data": {
      "text/plain": [
       "ComplexPlane"
      ]
     },
     "execution_count": 7,
     "metadata": {},
     "output_type": "execute_result"
    }
   ],
   "source": [
    "cp = ComplexPlane(xpoints=200,ypoints=200);\n",
    "typeof(cp)"
   ]
  },
  {
   "cell_type": "code",
   "execution_count": 8,
   "metadata": {
    "collapsed": false
   },
   "outputs": [
    {
     "name": "stdout",
     "output_type": "stream",
     "text": [
      "LinSpace{Float64}"
     ]
    },
    {
     "data": {
      "text/plain": [
       "200x200 Array{Int64,2}:\n",
       " 1  1  1  1  1  1  1  1  1  1  1  1  1  …  1  1  1  1  1  1  1  1  1  1  1  1\n",
       " 1  1  1  1  1  1  1  1  1  1  1  1  1     1  1  1  1  1  1  1  1  1  1  1  1\n",
       " 1  1  1  1  1  1  1  1  1  1  1  1  1     1  1  1  1  1  1  1  1  1  1  1  1\n",
       " 1  1  1  1  1  1  1  1  1  1  1  1  1     1  1  1  1  1  1  1  1  1  1  1  1\n",
       " 1  1  1  1  1  1  1  1  1  1  1  1  1     1  1  1  1  1  1  1  1  1  1  1  1\n",
       " 1  1  1  1  1  1  1  1  1  1  1  1  1  …  1  1  1  1  1  1  1  1  1  1  1  1\n",
       " 1  1  1  1  1  1  1  1  1  1  1  1  1     1  1  1  1  1  1  1  1  1  1  1  1\n",
       " 1  1  1  1  1  1  1  1  1  1  1  1  1     1  1  1  1  1  1  1  1  1  1  1  1\n",
       " 1  1  1  1  1  1  1  1  1  1  1  1  1     1  1  1  1  1  1  1  1  1  1  1  1\n",
       " 1  1  1  1  1  1  1  1  1  1  1  1  1     1  1  1  1  1  1  1  1  1  1  1  1\n",
       " 1  1  1  1  1  1  1  1  1  1  1  1  1  …  1  1  1  1  1  1  1  1  1  1  1  1\n",
       " 1  1  1  1  1  1  1  1  1  1  1  1  1     1  1  1  1  1  1  1  1  1  1  1  1\n",
       " 1  1  1  1  1  1  1  1  1  1  1  1  1     1  1  1  1  1  1  1  1  1  1  1  1\n",
       " ⋮              ⋮              ⋮        ⋱        ⋮              ⋮            \n",
       " 1  1  1  1  1  1  1  1  1  1  1  1  1     1  1  1  1  1  1  1  1  1  1  1  1\n",
       " 1  1  1  1  1  1  1  1  1  1  1  1  1     1  1  1  1  1  1  1  1  1  1  1  1\n",
       " 1  1  1  1  1  1  1  1  1  1  1  1  1  …  1  1  1  1  1  1  1  1  1  1  1  1\n",
       " 1  1  1  1  1  1  1  1  1  1  1  1  1     1  1  1  1  1  1  1  1  1  1  1  1\n",
       " 1  1  1  1  1  1  1  1  1  1  1  1  1     1  1  1  1  1  1  1  1  1  1  1  1\n",
       " 1  1  1  1  1  1  1  1  1  1  1  1  1     1  1  1  1  1  1  1  1  1  1  1  1\n",
       " 1  1  1  1  1  1  1  1  1  1  1  1  1     1  1  1  1  1  1  1  1  1  1  1  1\n",
       " 1  1  1  1  1  1  1  1  1  1  1  1  1  …  1  1  1  1  1  1  1  1  1  1  1  1\n",
       " 1  1  1  1  1  1  1  1  1  1  1  1  1     1  1  1  1  1  1  1  1  1  1  1  1\n",
       " 1  1  1  1  1  1  1  1  1  1  1  1  1     1  1  1  1  1  1  1  1  1  1  1  1\n",
       " 1  1  1  1  1  1  1  1  1  1  1  1  1     1  1  1  1  1  1  1  1  1  1  1  1\n",
       " 1  1  1  1  1  1  1  1  1  1  1  1  1     1  1  1  1  1  1  1  1  1  1  1  1"
      ]
     },
     "execution_count": 8,
     "metadata": {},
     "output_type": "execute_result"
    }
   ],
   "source": [
    "print(typeof(cp.x))\n",
    "j0(cp.z)"
   ]
  },
  {
   "cell_type": "markdown",
   "metadata": {},
   "source": [
    "Immutable makes it so that the complex plane can not be changed. So after the ComplexPlane is called, cp will not be able to be altered. \n",
    "A difference between this with Pthon is that the you can declare what is immutable before the function is declared. "
   ]
  }
 ],
 "metadata": {
  "kernelspec": {
   "display_name": "Julia",
   "language": "julia",
   "name": "julia"
  },
  "language_info": {
   "file_extension": ".jl",
   "mimetype": "application/julia",
   "name": "julia",
   "version": "0.4.6"
  }
 },
 "nbformat": 4,
 "nbformat_minor": 0
}
